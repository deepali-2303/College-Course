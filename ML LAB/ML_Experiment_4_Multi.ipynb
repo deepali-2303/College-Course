{
 "cells": [
  {
   "cell_type": "code",
   "execution_count": 5,
   "metadata": {},
   "outputs": [],
   "source": [
    "import pandas as pd\n",
    "import numpy as np"
   ]
  },
  {
   "cell_type": "code",
   "execution_count": 6,
   "metadata": {},
   "outputs": [
    {
     "data": {
      "text/html": [
       "<div>\n",
       "<style scoped>\n",
       "    .dataframe tbody tr th:only-of-type {\n",
       "        vertical-align: middle;\n",
       "    }\n",
       "\n",
       "    .dataframe tbody tr th {\n",
       "        vertical-align: top;\n",
       "    }\n",
       "\n",
       "    .dataframe thead th {\n",
       "        text-align: right;\n",
       "    }\n",
       "</style>\n",
       "<table border=\"1\" class=\"dataframe\">\n",
       "  <thead>\n",
       "    <tr style=\"text-align: right;\">\n",
       "      <th></th>\n",
       "      <th>Age</th>\n",
       "      <th>Air Pollution</th>\n",
       "      <th>Alcohol use</th>\n",
       "      <th>Level</th>\n",
       "    </tr>\n",
       "  </thead>\n",
       "  <tbody>\n",
       "    <tr>\n",
       "      <th>0</th>\n",
       "      <td>33</td>\n",
       "      <td>2</td>\n",
       "      <td>4</td>\n",
       "      <td>Low</td>\n",
       "    </tr>\n",
       "    <tr>\n",
       "      <th>1</th>\n",
       "      <td>17</td>\n",
       "      <td>3</td>\n",
       "      <td>1</td>\n",
       "      <td>Medium</td>\n",
       "    </tr>\n",
       "    <tr>\n",
       "      <th>2</th>\n",
       "      <td>35</td>\n",
       "      <td>4</td>\n",
       "      <td>5</td>\n",
       "      <td>High</td>\n",
       "    </tr>\n",
       "    <tr>\n",
       "      <th>3</th>\n",
       "      <td>37</td>\n",
       "      <td>7</td>\n",
       "      <td>7</td>\n",
       "      <td>High</td>\n",
       "    </tr>\n",
       "    <tr>\n",
       "      <th>4</th>\n",
       "      <td>46</td>\n",
       "      <td>6</td>\n",
       "      <td>8</td>\n",
       "      <td>High</td>\n",
       "    </tr>\n",
       "    <tr>\n",
       "      <th>...</th>\n",
       "      <td>...</td>\n",
       "      <td>...</td>\n",
       "      <td>...</td>\n",
       "      <td>...</td>\n",
       "    </tr>\n",
       "    <tr>\n",
       "      <th>162</th>\n",
       "      <td>76</td>\n",
       "      <td>7</td>\n",
       "      <td>8</td>\n",
       "      <td>High</td>\n",
       "    </tr>\n",
       "    <tr>\n",
       "      <th>163</th>\n",
       "      <td>2</td>\n",
       "      <td>1</td>\n",
       "      <td>1</td>\n",
       "      <td>Low</td>\n",
       "    </tr>\n",
       "    <tr>\n",
       "      <th>164</th>\n",
       "      <td>77</td>\n",
       "      <td>7</td>\n",
       "      <td>8</td>\n",
       "      <td>High</td>\n",
       "    </tr>\n",
       "    <tr>\n",
       "      <th>165</th>\n",
       "      <td>1</td>\n",
       "      <td>1</td>\n",
       "      <td>1</td>\n",
       "      <td>Low</td>\n",
       "    </tr>\n",
       "    <tr>\n",
       "      <th>166</th>\n",
       "      <td>78</td>\n",
       "      <td>7</td>\n",
       "      <td>8</td>\n",
       "      <td>High</td>\n",
       "    </tr>\n",
       "  </tbody>\n",
       "</table>\n",
       "<p>167 rows × 4 columns</p>\n",
       "</div>"
      ],
      "text/plain": [
       "     Age  Air Pollution  Alcohol use   Level\n",
       "0     33              2            4     Low\n",
       "1     17              3            1  Medium\n",
       "2     35              4            5    High\n",
       "3     37              7            7    High\n",
       "4     46              6            8    High\n",
       "..   ...            ...          ...     ...\n",
       "162   76              7            8    High\n",
       "163    2              1            1     Low\n",
       "164   77              7            8    High\n",
       "165    1              1            1     Low\n",
       "166   78              7            8    High\n",
       "\n",
       "[167 rows x 4 columns]"
      ]
     },
     "execution_count": 6,
     "metadata": {},
     "output_type": "execute_result"
    }
   ],
   "source": [
    "data = pd.read_csv('data_multi.csv')\n",
    "data"
   ]
  },
  {
   "cell_type": "code",
   "execution_count": 7,
   "metadata": {},
   "outputs": [],
   "source": [
    "class OneVsAllLinearRegression:\n",
    "    def __init__(self):\n",
    "        self.models = []\n",
    "\n",
    "    def fit(self, X, y):\n",
    "        unique_classes = np.unique(y)\n",
    "        for cls in unique_classes:\n",
    "            y_binary = np.where(y == cls, 1, 0)\n",
    "            model = self.train_linear_regression(X, y_binary)\n",
    "            self.models.append((cls, model))\n",
    "\n",
    "    def predict(self, X):\n",
    "        probabilities = np.zeros((X.shape[0], len(self.models)))\n",
    "        for i, (cls, model) in enumerate(self.models):\n",
    "            probabilities[:, i] = self.sigmoid(np.dot(np.hstack([np.ones((X.shape[0], 1)), X]), model))\n",
    "        return np.argmax(probabilities, axis=1)\n",
    "\n",
    "    def train_linear_regression(self, X, y):\n",
    "        X_with_bias = np.hstack([np.ones((X.shape[0], 1)), X])\n",
    "        theta = np.linalg.inv(X_with_bias.T @ X_with_bias) @ X_with_bias.T @ y\n",
    "        return theta\n",
    "\n",
    "    def sigmoid(self, z):\n",
    "        return 1 / (1 + np.exp(-z))"
   ]
  },
  {
   "cell_type": "code",
   "execution_count": 8,
   "metadata": {},
   "outputs": [
    {
     "name": "stdout",
     "output_type": "stream",
     "text": [
      "Accuracy: 79.64071856287424 %\n"
     ]
    }
   ],
   "source": [
    "X = data.iloc[:, :-1].values.astype(float)\n",
    "y = data.iloc[:, -1].values\n",
    "\n",
    "label_mapping = {\"Low\": 0, \"Medium\": 1, \"High\": 2}\n",
    "y_numeric = np.array([label_mapping[label] for label in y])\n",
    "\n",
    "ova_lr = OneVsAllLinearRegression()\n",
    "ova_lr.fit(X, y_numeric)\n",
    "\n",
    "y_pred = ova_lr.predict(X)\n",
    "\n",
    "accuracy = np.mean(y_pred == y_numeric)\n",
    "accuracy_percentage = accuracy * 100\n",
    "print(\"Accuracy:\", accuracy_percentage,\"%\")"
   ]
  },
  {
   "cell_type": "code",
   "execution_count": 9,
   "metadata": {},
   "outputs": [
    {
     "name": "stdout",
     "output_type": "stream",
     "text": [
      "   Age  Air Pollution  Alcohol use Predicted_Level\n",
      "0   30              3            4             Low\n",
      "1   25              5            6            High\n",
      "2   40              6            7            High\n",
      "3   50              4            5             Low\n",
      "4   35              2            3             Low\n"
     ]
    }
   ],
   "source": [
    "\n",
    "test_data = pd.DataFrame({\n",
    "    'Age': [30, 25, 40, 50, 35],\n",
    "    'Air Pollution': [3, 5, 6, 4, 2],\n",
    "    'Alcohol use': [4, 6, 7, 5, 3]\n",
    "})\n",
    "\n",
    "y_pred_test = ova_lr.predict(test_data.values)\n",
    "\n",
    "reverse_label_mapping = {v: k for k, v in label_mapping.items()}\n",
    "y_pred_test_labels = [reverse_label_mapping[label] for label in y_pred_test]\n",
    "\n",
    "test_data['Predicted_Level'] = y_pred_test_labels\n",
    "\n",
    "print(test_data)\n"
   ]
  }
 ],
 "metadata": {
  "kernelspec": {
   "display_name": "Python 3",
   "language": "python",
   "name": "python3"
  },
  "language_info": {
   "codemirror_mode": {
    "name": "ipython",
    "version": 3
   },
   "file_extension": ".py",
   "mimetype": "text/x-python",
   "name": "python",
   "nbconvert_exporter": "python",
   "pygments_lexer": "ipython3",
   "version": "3.10.0"
  }
 },
 "nbformat": 4,
 "nbformat_minor": 2
}

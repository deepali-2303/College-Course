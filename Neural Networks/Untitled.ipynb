{
 "cells": [
  {
   "cell_type": "code",
   "execution_count": 1,
   "id": "d5a49e4f",
   "metadata": {},
   "outputs": [],
   "source": [
    "import numpy as np\n"
   ]
  },
  {
   "cell_type": "code",
   "execution_count": 2,
   "id": "16f18f99",
   "metadata": {},
   "outputs": [],
   "source": [
    "def sigmoid(x):\n",
    "    return 1 / (1 + np.exp(-x))\n"
   ]
  },
  {
   "cell_type": "code",
   "execution_count": 3,
   "id": "52c38171",
   "metadata": {},
   "outputs": [],
   "source": [
    "def neuron(inputs, weights):\n",
    "    # Calculate the weighted sum\n",
    "    weighted_sum = np.dot(inputs, weights)\n",
    "    \n",
    "    # Apply the sigmoid activation function\n",
    "    output = sigmoid(weighted_sum)\n",
    "    \n",
    "    return output\n"
   ]
  },
  {
   "cell_type": "code",
   "execution_count": 39,
   "id": "de468de4",
   "metadata": {},
   "outputs": [],
   "source": [
    "def or_gate(x1, x2):\n",
    "    # Define weights and bias for the OR gate\n",
    "    weights = np.array([1, 1])\n",
    "    bias = 0  # Adjust bias as needed\n",
    "    \n",
    "    # Create input array\n",
    "    inputs = np.array([x1, x2])\n",
    "    \n",
    "    # Calculate the output of the OR gate\n",
    "    output = neuron(inputs, weights) \n",
    "    print(output)\n",
    "    output = neuron(inputs, weights) + bias\n",
    "    \n",
    "    if output>0.5:\n",
    "        return 1\n",
    "    else:\n",
    "        return 0\n",
    "\n",
    "    \n"
   ]
  },
  {
   "cell_type": "code",
   "execution_count": 51,
   "id": "8897b337",
   "metadata": {},
   "outputs": [],
   "source": [
    "def and_gate(x1, x2):\n",
    "    # Define weights and bias for the AND gate\n",
    "    weights = np.array([1, 1])\n",
    "    bias = 0.2  # Adjust bias as needed\n",
    "    \n",
    "    # Create input array\n",
    "    \n",
    "    inputs = np.array([x1, x2])\n",
    "    output = neuron(inputs, weights) \n",
    "    print(output)\n",
    "    # Calculate the output of the AND gate\n",
    "    output = neuron(inputs, weights) + bias\n",
    "    \n",
    "    if output>1:\n",
    "        return 1\n",
    "    else:\n",
    "        return 0\n"
   ]
  },
  {
   "cell_type": "code",
   "execution_count": 57,
   "id": "020a0a65",
   "metadata": {},
   "outputs": [],
   "source": [
    "def not_gate(x1):\n",
    "    # Define weights and bias for the NOT gate\n",
    "    weights = np.array([-1])\n",
    "    bias = 0 # Adjust bias as needed\n",
    "    \n",
    "    # Create input array\n",
    "    inputs = np.array([x1])\n",
    "    output = neuron(inputs, weights) \n",
    "    print(output)\n",
    "    # Calculate the output of the NOT gate\n",
    "    output = neuron(inputs, weights) + bias\n",
    "    \n",
    "    if output>=0.5:\n",
    "        return 1\n",
    "    else:\n",
    "        return 0\n"
   ]
  },
  {
   "cell_type": "code",
   "execution_count": 58,
   "id": "4d89af85",
   "metadata": {},
   "outputs": [
    {
     "name": "stdout",
     "output_type": "stream",
     "text": [
      "OR Gate:\n",
      "0.5\n",
      "OR(0, 0) = 0\n",
      "0.7310585786300049\n",
      "OR(0, 1) = 1\n",
      "0.7310585786300049\n",
      "OR(1, 0) = 1\n",
      "0.8807970779778823\n",
      "OR(1, 1) = 1\n",
      "\n",
      "AND Gate:\n",
      "0.5\n",
      "AND(0, 0) = 0\n",
      "0.7310585786300049\n",
      "AND(0, 1) = 0\n",
      "0.7310585786300049\n",
      "AND(1, 0) = 0\n",
      "0.8807970779778823\n",
      "AND(1, 1) = 1\n",
      "\n",
      "NOT Gate:\n",
      "0.5\n",
      "NOT(0) = 1\n",
      "0.2689414213699951\n",
      "NOT(1) = 0\n"
     ]
    }
   ],
   "source": [
    "print(\"OR Gate:\")\n",
    "print(\"OR(0, 0) =\", or_gate(0, 0))\n",
    "print(\"OR(0, 1) =\", or_gate(0, 1))\n",
    "print(\"OR(1, 0) =\", or_gate(1, 0))\n",
    "print(\"OR(1, 1) =\", or_gate(1, 1))\n",
    "\n",
    "\n",
    "print(\"\\nAND Gate:\")\n",
    "print(\"AND(0, 0) =\", and_gate(0, 0))\n",
    "print(\"AND(0, 1) =\", and_gate(0, 1))\n",
    "print(\"AND(1, 0) =\", and_gate(1, 0))\n",
    "print(\"AND(1, 1) =\", and_gate(1, 1))\n",
    "\n",
    "\n",
    "\n",
    "print(\"\\nNOT Gate:\")\n",
    "print(\"NOT(0) =\", not_gate(0))\n",
    "print(\"NOT(1) =\", not_gate(1))"
   ]
  },
  {
   "cell_type": "code",
   "execution_count": null,
   "id": "e6b97a14",
   "metadata": {},
   "outputs": [],
   "source": []
  }
 ],
 "metadata": {
  "kernelspec": {
   "display_name": "Python 3 (ipykernel)",
   "language": "python",
   "name": "python3"
  },
  "language_info": {
   "codemirror_mode": {
    "name": "ipython",
    "version": 3
   },
   "file_extension": ".py",
   "mimetype": "text/x-python",
   "name": "python",
   "nbconvert_exporter": "python",
   "pygments_lexer": "ipython3",
   "version": "3.10.1"
  }
 },
 "nbformat": 4,
 "nbformat_minor": 5
}

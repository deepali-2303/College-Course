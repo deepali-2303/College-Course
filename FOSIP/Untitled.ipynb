{
 "cells": [
  {
   "cell_type": "code",
   "execution_count": 8,
   "id": "6a982b02",
   "metadata": {},
   "outputs": [],
   "source": [
    "import cv2\n",
    "import numpy as np\n",
    "\n",
    "# Load the input image\n",
    "input_image = cv2.imread('image1.jpg', 0)  # Assuming 'input_xray.jpg' is your input image\n",
    "\n",
    "# Apply Laplacian filter\n",
    "laplacian = cv2.Laplacian(input_image, cv2.CV_64F)\n",
    "\n",
    "# Convert back to uint8 for further processing\n",
    "laplacian = np.uint8(np.absolute(laplacian))\n",
    "\n",
    "# Display Laplacian image (Optional)\n",
    "cv2.imshow('Laplacian Image', laplacian)\n",
    "cv2.waitKey(0)\n",
    "cv2.destroyAllWindows()\n"
   ]
  },
  {
   "cell_type": "code",
   "execution_count": 2,
   "id": "b3380996",
   "metadata": {},
   "outputs": [],
   "source": [
    "\n",
    "# Add original image and Laplacian output\n",
    "sharpened_image = cv2.add(input_image, laplacian)\n",
    "\n",
    "# Display Sharpened image (Optional)\n",
    "cv2.imshow('Sharpened Image', sharpened_image)\n",
    "cv2.waitKey(0)\n",
    "cv2.destroyAllWindows()\n"
   ]
  },
  {
   "cell_type": "code",
   "execution_count": 9,
   "id": "64e6b490",
   "metadata": {},
   "outputs": [],
   "source": [
    "# Apply Sobel operator\n",
    "sobel_x = cv2.Sobel(input_image, cv2.CV_64F, 1, 0, ksize=5)\n",
    "sobel_y = cv2.Sobel(input_image, cv2.CV_64F, 0, 1, ksize=5)\n",
    "\n",
    "# Combine horizontal and vertical edges\n",
    "edges = cv2.magnitude(sobel_x, sobel_y)\n",
    "\n",
    "# Convert back to uint8 for further processing\n",
    "edges = np.uint8(edges)\n",
    "\n",
    "# Display edges image (Optional)\n",
    "cv2.imshow('Edges Image', edges)\n",
    "cv2.waitKey(0)\n",
    "cv2.destroyAllWindows()\n"
   ]
  },
  {
   "cell_type": "code",
   "execution_count": 11,
   "id": "070b8f91",
   "metadata": {},
   "outputs": [],
   "source": [
    "# Apply Wiener filter (You may need to install scipy if not already installed)\n",
    "from scipy.signal import convolve2d\n",
    "psf = np.ones((5, 5)) / 25  # Assuming a 5x5 averaging kernel\n",
    "smoothed_gradient = convolve2d(edges, psf, 'same')\n",
    "\n",
    "# Convert back to uint8 for further processing\n",
    "smoothed_gradient = np.uint8(smoothed_gradient)\n",
    "\n",
    "# Display smoothed gradient image (Optional)\n",
    "cv2.imshow('Smoothed Gradient Image', smoothed_gradient)\n",
    "cv2.waitKey(0)\n",
    "cv2.destroyAllWindows()\n"
   ]
  },
  {
   "cell_type": "code",
   "execution_count": 5,
   "id": "c8913c71",
   "metadata": {},
   "outputs": [],
   "source": [
    "# Convert images to float32 for multiplication\n",
    "sharpened_float = np.float32(sharpened_image)\n",
    "smoothed_float = np.float32(smoothed_gradient)\n",
    "\n",
    "# Multiply images\n",
    "product_image = cv2.multiply(sharpened_float, smoothed_float)\n",
    "\n",
    "# Convert back to uint8 for further processing\n",
    "product_image = np.uint8(product_image)\n",
    "\n",
    "# Display product image (Optional)\n",
    "cv2.imshow('Product Image', product_image)\n",
    "cv2.waitKey(0)\n",
    "cv2.destroyAllWindows()\n"
   ]
  },
  {
   "cell_type": "code",
   "execution_count": 6,
   "id": "8c6034f6",
   "metadata": {},
   "outputs": [],
   "source": [
    "# Add product image to the sharpened image\n",
    "enhanced_image = cv2.add(sharpened_image, product_image)\n",
    "\n",
    "# Display enhanced image (Optional)\n",
    "cv2.imshow('Enhanced Image', enhanced_image)\n",
    "cv2.waitKey(0)\n",
    "cv2.destroyAllWindows()\n"
   ]
  },
  {
   "cell_type": "code",
   "execution_count": 7,
   "id": "c825afa9",
   "metadata": {},
   "outputs": [],
   "source": [
    "gamma = 1.5  # You can adjust this value based on your preference\n",
    "\n",
    "# Apply power law transformation\n",
    "power_law = np.power(enhanced_image / 255.0, gamma) * 255.0\n",
    "\n",
    "# Convert back to uint8 for final output\n",
    "power_law = np.uint8(power_law)\n",
    "\n",
    "# Display final enhanced image (Optional)\n",
    "cv2.imshow('Final Enhanced Image', power_law)\n",
    "cv2.waitKey(0)\n",
    "cv2.destroyAllWindows()\n",
    "\n",
    "# Save the final enhanced image\n",
    "cv2.imwrite('final_enhanced_xray1.jpg', power_law)\n"
   ]
  }
 ],
 "metadata": {
  "kernelspec": {
   "display_name": "venv1",
   "language": "python",
   "name": "venv1"
  },
  "language_info": {
   "codemirror_mode": {
    "name": "ipython",
    "version": 3
   },
   "file_extension": ".py",
   "mimetype": "text/x-python",
   "name": "python",
   "nbconvert_exporter": "python",
   "pygments_lexer": "ipython3",
   "version": "3.10.1"
  }
 },
 "nbformat": 4,
 "nbformat_minor": 5
}
